{
 "cells": [
  {
   "cell_type": "code",
   "execution_count": null,
   "id": "4d427058",
   "metadata": {},
   "outputs": [],
   "source": [
    "import numpy as np\n",
    "import matplotlib.pyplot as plt\n",
    "import pandas as pd\n",
    "import seaborn as sns\n",
    "from collections import Counter"
   ]
  },
  {
   "cell_type": "markdown",
   "id": "0c687e11",
   "metadata": {},
   "source": [
    "# Add company info"
   ]
  },
  {
   "cell_type": "code",
   "execution_count": null,
   "id": "75bb37bd",
   "metadata": {},
   "outputs": [],
   "source": [
    "company_original = pd.read_csv(\"companies.csv\")"
   ]
  },
  {
   "cell_type": "code",
   "execution_count": null,
   "id": "ed056d9a",
   "metadata": {
    "scrolled": true
   },
   "outputs": [],
   "source": [
    "company_original.head()"
   ]
  },
  {
   "cell_type": "code",
   "execution_count": null,
   "id": "9dc8babc",
   "metadata": {},
   "outputs": [],
   "source": [
    "\n",
    "company_original.info()"
   ]
  },
  {
   "cell_type": "code",
   "execution_count": null,
   "id": "dafb5e6f",
   "metadata": {},
   "outputs": [],
   "source": [
    "final_df = company_original.drop(columns = ['name','homepage_url','state_code','region',\n",
    "                                           'city'])"
   ]
  },
  {
   "cell_type": "code",
   "execution_count": null,
   "id": "6a9013df",
   "metadata": {},
   "outputs": [],
   "source": [
    "final_df.info()"
   ]
  },
  {
   "cell_type": "code",
   "execution_count": null,
   "id": "9ebcb59c",
   "metadata": {},
   "outputs": [],
   "source": [
    "final_df.head()"
   ]
  },
  {
   "cell_type": "markdown",
   "id": "eef3d0e1",
   "metadata": {},
   "source": [
    "# Convert funding_total_usd from string to numeric"
   ]
  },
  {
   "cell_type": "code",
   "execution_count": null,
   "id": "8fea1e45",
   "metadata": {},
   "outputs": [],
   "source": [
    "final_df['funding_total_usd'] = pd.to_numeric(final_df['funding_total_usd'], errors='coerce')"
   ]
  },
  {
   "cell_type": "markdown",
   "id": "321c1533",
   "metadata": {},
   "source": [
    "# fill null or Na values to mode values for all features having NA"
   ]
  },
  {
   "cell_type": "code",
   "execution_count": null,
   "id": "55a5d1c3",
   "metadata": {},
   "outputs": [],
   "source": [
    "final_df['category_list'].fillna(final_df['category_list'].mode()[0], inplace=True)\n",
    "final_df['country_code'].fillna(final_df['country_code'].mode()[0], inplace=True)\n",
    "final_df['funding_rounds'].fillna(final_df['funding_rounds'].mode()[0], inplace=True)\n",
    "final_df['founded_at'].fillna(final_df['founded_at'].mode()[0], inplace=True)\n",
    "#final_df['funding_round_type_y'].fillna(final_df['funding_round_type_y'].mode()[0], inplace=True)\n",
    "#final_df['funding_round_code_x'].fillna(final_df['funding_round_code_x'].mode()[0], inplace=True)\n",
    "#final_df['raised_amount_usd_y'].fillna(final_df['raised_amount_usd_y'].mode()[0], inplace=True)\n",
    "final_df['funding_total_usd'].fillna(final_df['funding_total_usd'].mode()[0], inplace=True)\n",
    "#final_df['Num_of_investors'].fillna(final_df['Num_of_investors'].mode()[0], inplace=True)"
   ]
  },
  {
   "cell_type": "code",
   "execution_count": null,
   "id": "f4bc9517",
   "metadata": {},
   "outputs": [],
   "source": [
    "final_df['status'].unique()"
   ]
  },
  {
   "cell_type": "code",
   "execution_count": null,
   "id": "afaabd7b",
   "metadata": {},
   "outputs": [],
   "source": [
    "final_df.info()"
   ]
  },
  {
   "cell_type": "markdown",
   "id": "2738ff1f",
   "metadata": {},
   "source": [
    "# Remove operating status from the final dataset"
   ]
  },
  {
   "cell_type": "code",
   "execution_count": null,
   "id": "10fc508d",
   "metadata": {},
   "outputs": [],
   "source": [
    "final_df = final_df[final_df.status != 'operating']\n",
    "final_df.info()"
   ]
  },
  {
   "cell_type": "code",
   "execution_count": null,
   "id": "8851ff4b",
   "metadata": {},
   "outputs": [],
   "source": [
    "final_df.fillna(0)"
   ]
  },
  {
   "cell_type": "markdown",
   "id": "9ffb3984",
   "metadata": {},
   "source": [
    "# Replace first funding date which are null with the date of last funding to make sense"
   ]
  },
  {
   "cell_type": "code",
   "execution_count": null,
   "id": "c7cd574b",
   "metadata": {},
   "outputs": [],
   "source": [
    "final_df[final_df['first_funding_at'].isnull()]"
   ]
  },
  {
   "cell_type": "code",
   "execution_count": null,
   "id": "a4e7fefc",
   "metadata": {},
   "outputs": [],
   "source": [
    "final_df['first_funding_at']=np.where(final_df['permalink']==\"/organization/motionmetrics\",\"2014-09-01\",final_df['first_funding_at'])\n",
    "final_df['first_funding_at']=np.where(final_df['permalink']==\"/organization/topicmarks\",\"2011-03-18\",final_df['first_funding_at']) "
   ]
  },
  {
   "cell_type": "markdown",
   "id": "a200d48a",
   "metadata": {},
   "source": [
    "# Replace founded at date with the first funding date where there is abnormal dates"
   ]
  },
  {
   "cell_type": "code",
   "execution_count": null,
   "id": "e6105542",
   "metadata": {},
   "outputs": [],
   "source": [
    "final_df['founded_at']=np.where(final_df['permalink']==\"/organization/rent2cash-com\",\"2014-01-01\",final_df['founded_at'])\n",
    "final_df['founded_at']=np.where(final_df['permalink']==\"/organization/livamp-2\",\"2014-09-21\",final_df['founded_at'])"
   ]
  },
  {
   "cell_type": "markdown",
   "id": "86649fec",
   "metadata": {},
   "source": [
    "# Scale funding duration to millions and thousands"
   ]
  },
  {
   "cell_type": "code",
   "execution_count": null,
   "id": "d9deba22",
   "metadata": {},
   "outputs": [],
   "source": [
    "final_df['funding_total_usd'] = pd.to_numeric(final_df['funding_total_usd'], errors='coerce')\n",
    "#median = filter_data['funding_total_usd'].median()\n",
    "#companies.info()\n",
    "\n",
    "final_df['fundind_total_k$'] = final_df['funding_total_usd']/1000\n",
    "final_df['funding_total_m$'] = final_df['funding_total_usd']/1000000\n",
    "final_df.info()\n",
    "final_df.head()\n",
    "\n",
    "\n"
   ]
  },
  {
   "cell_type": "markdown",
   "id": "b93b5c92",
   "metadata": {},
   "source": [
    "## Create labels"
   ]
  },
  {
   "cell_type": "code",
   "execution_count": null,
   "id": "7e3e5de9",
   "metadata": {},
   "outputs": [],
   "source": [
    "final_df['label'] = 0\n",
    "final_df.loc[final_df.status == 'ipo', 'label'] = 1 # add 1 to the label column with status ipo or acquired\n",
    "final_df.loc[final_df.status == 'acquired', 'label'] = 1\n",
    "\n",
    "final_df.info()"
   ]
  },
  {
   "cell_type": "markdown",
   "id": "8423843d",
   "metadata": {},
   "source": [
    "## Split the data into train and test set "
   ]
  },
  {
   "cell_type": "code",
   "execution_count": null,
   "id": "4df88350",
   "metadata": {},
   "outputs": [],
   "source": [
    "import numpy as np\n",
    "from sklearn.model_selection import KFold\n",
    "\n",
    "X = final_df.drop(columns=['label'])\n",
    "y = final_df['label']\n",
    "kf = KFold(n_splits=5)\n",
    "\n",
    "for train_index, test_index in kf.split(X): # 80 20 % split\n",
    "    print(\"TRAIN:\", train_index, \"TEST:\", test_index)\n",
    "    X_train, X_test = X.iloc[train_index], X.iloc[test_index]\n",
    "    y_train, y_test = y.iloc[train_index], y.iloc[test_index]"
   ]
  },
  {
   "cell_type": "code",
   "execution_count": null,
   "id": "19d6c704",
   "metadata": {},
   "outputs": [],
   "source": [
    "X_train"
   ]
  },
  {
   "cell_type": "code",
   "execution_count": null,
   "id": "76fa46c2",
   "metadata": {},
   "outputs": [],
   "source": [
    "X_test"
   ]
  },
  {
   "cell_type": "markdown",
   "id": "cd05306d",
   "metadata": {},
   "source": [
    "# Adding new features to the train and test dataset"
   ]
  },
  {
   "cell_type": "code",
   "execution_count": null,
   "id": "5f63409d",
   "metadata": {},
   "outputs": [],
   "source": [
    "t1=pd.to_datetime(X_train['first_funding_at'], errors = 'coerce')\n",
    "\n",
    "#t2 = pd.to_datetime(combined_company_investment_acquisition_rounds['last_funding_at'])\n",
    "t2=pd.to_datetime(X_train['last_funding_at'], errors = 'coerce')\n",
    "\n",
    "X_train['funding_duration']=t2-t1\n",
    "X_train['funding_duration_days']=X_train['funding_duration'].dt.days  ## This takes care of the duratrion that will remove \"days\" word in funding_duration column\n",
    "\n",
    "#company_investment_acquisition_rounds['funding_duration_year']=company_investment_acquisition_rounds['funding_duration'].astype('timedelta64[Y]') # use this when you want to see Year in as 0.0 when month is less than 12 becuase if less than 12 then year get displayed as 0.0\n",
    "X_train['funding_duration_year']=X_train['funding_duration'].dt.days/364.0   # use this when you want to see year as 0.6 for months less than 12 \n",
    "\n",
    "#company_investment_acquisition_rounds['funding_duration_month']=company_investment_acquisition_rounds['funding_duration'].astype('timedelta64[M]') # use this when you want to see 0.0 for month when days <30\n",
    "#company_investment_acquisition_rounds['funding_duration_month']=(company_investment_acquisition_rounds['funding_duration_year'])*364.0/30.0   # use this to see 0.034 as month when days <30\n",
    "X_train['funding_duration_month']=(X_train['funding_duration_days'])/30.0   "
   ]
  },
  {
   "cell_type": "code",
   "execution_count": null,
   "id": "bcdf0f5f",
   "metadata": {},
   "outputs": [],
   "source": [
    "t1=pd.to_datetime(X_test['first_funding_at'], errors = 'coerce')\n",
    "\n",
    "#t2 = pd.to_datetime(combined_company_investment_acquisition_rounds['last_funding_at'])\n",
    "t2=pd.to_datetime(X_test['last_funding_at'], errors = 'coerce')\n",
    "\n",
    "X_test['funding_duration']=t2-t1\n",
    "X_test['funding_duration_days']=X_test['funding_duration'].dt.days  ## This takes care of the duratrion that will remove \"days\" word in funding_duration column\n",
    "\n",
    "#company_investment_acquisition_rounds['funding_duration_year']=company_investment_acquisition_rounds['funding_duration'].astype('timedelta64[Y]') # use this when you want to see Year in as 0.0 when month is less than 12 becuase if less than 12 then year get displayed as 0.0\n",
    "X_test['funding_duration_year']=X_test['funding_duration'].dt.days/364.0   # use this when you want to see year as 0.6 for months less than 12 \n",
    "\n",
    "#company_investment_acquisition_rounds['funding_duration_month']=company_investment_acquisition_rounds['funding_duration'].astype('timedelta64[M]') # use this when you want to see 0.0 for month when days <30\n",
    "#company_investment_acquisition_rounds['funding_duration_month']=(company_investment_acquisition_rounds['funding_duration_year'])*364.0/30.0   # use this to see 0.034 as month when days <30\n",
    "X_test['funding_duration_month']=(X_test['funding_duration_days'])/30.0   \n"
   ]
  },
  {
   "cell_type": "code",
   "execution_count": null,
   "id": "e1716f6c",
   "metadata": {},
   "outputs": [],
   "source": [
    "p1 = pd.DatetimeIndex(X_train['first_funding_at']).year\n",
    "p2 = pd.DatetimeIndex(X_train['last_funding_at']).year\n",
    "X_train['Avg_duration_of_funding']=p2-p1\n",
    "temp = X_train['Avg_duration_of_funding'] /2\n",
    "X_train['Avg_funding_in_year'] = temp\n",
    "\n",
    "X_train.head()"
   ]
  },
  {
   "cell_type": "code",
   "execution_count": null,
   "id": "7aba7e36",
   "metadata": {},
   "outputs": [],
   "source": [
    "p1 = pd.DatetimeIndex(X_test['first_funding_at']).year\n",
    "p2 = pd.DatetimeIndex(X_test['last_funding_at']).year\n",
    "X_test['Avg_duration_of_funding']=p2-p1\n",
    "temp = X_test['Avg_duration_of_funding'] /2\n",
    "X_test['Avg_funding_in_year'] = temp\n",
    "\n",
    "X_test.head()"
   ]
  },
  {
   "cell_type": "code",
   "execution_count": null,
   "id": "b999d274",
   "metadata": {},
   "outputs": [],
   "source": [
    "X_train[[\"founded_at_year\", \"founded_at_month\", \"founded_at_day\"]] = X_train[\"founded_at\"].str.split(\"-\", expand = True)\n",
    "#print(\"\\nNew DataFrame:\")\n",
    "X_train[[\"first_funding_year\", \"first_funding_month\", \"first_funding_day\"]] = X_train[\"first_funding_at\"].str.split(\"-\", expand = True)\n",
    "\n",
    "X_train[[\"last_funding_year\", \"last_funding_month\", \"last_funding_day\"]] = X_train[\"last_funding_at\"].str.split(\"-\", expand = True)\n",
    "\n",
    "#X_train[[\"funded_year\", \"funded_month\", \"funded_day\"]] = X_train[\"funded_at_y\"].str.split(\"-\", expand = True)\n",
    "\n",
    "X_train.head()"
   ]
  },
  {
   "cell_type": "code",
   "execution_count": null,
   "id": "152657d9",
   "metadata": {},
   "outputs": [],
   "source": [
    "X_test[[\"founded_at_year\", \"founded_at_month\", \"founded_at_day\"]] = X_test[\"founded_at\"].str.split(\"-\", expand = True)\n",
    "#print(\"\\nNew DataFrame:\")\n",
    "X_test[[\"first_funding_year\", \"first_funding_month\", \"first_funding_day\"]] = X_test[\"first_funding_at\"].str.split(\"-\", expand = True)\n",
    "\n",
    "X_test[[\"last_funding_year\", \"last_funding_month\", \"last_funding_day\"]] = X_test[\"last_funding_at\"].str.split(\"-\", expand = True)\n",
    "\n",
    "#X_test[[\"funded_year\", \"funded_month\", \"funded_day\"]] = X_test[\"funded_at_y\"].str.split(\"-\", expand = True)\n",
    "\n",
    "X_test.head()"
   ]
  },
  {
   "cell_type": "code",
   "execution_count": null,
   "id": "eddc3f80",
   "metadata": {},
   "outputs": [],
   "source": [
    "X_train['founded_at_day'] = pd.to_numeric(X_train['founded_at_day'], errors='coerce')\n",
    "X_train['founded_at_month'] = pd.to_numeric(X_train['founded_at_month'], errors='coerce')\n",
    "X_train['founded_at_year'] = pd.to_numeric(X_train['founded_at_year'], errors='coerce')\n",
    "\n",
    "\n",
    "X_train['first_funding_day'] = pd.to_numeric(X_train['first_funding_day'], errors='coerce')\n",
    "X_train['first_funding_month'] = pd.to_numeric(X_train['first_funding_month'], errors='coerce')\n",
    "X_train['first_funding_year'] = pd.to_numeric(X_train['first_funding_year'], errors='coerce')\n",
    "\n",
    "\n",
    "X_train['last_funding_day'] = pd.to_numeric(X_train['last_funding_day'], errors='coerce')\n",
    "X_train['last_funding_month'] = pd.to_numeric(X_train['last_funding_month'], errors='coerce')\n",
    "X_train['last_funding_year'] = pd.to_numeric(X_train['last_funding_year'], errors='coerce')\n",
    "\n",
    "# X_train['funded_year'] = pd.to_numeric(X_train['funded_year'], errors='coerce')\n",
    "# X_train['funded_month'] = pd.to_numeric(X_train['funded_month'], errors='coerce')\n",
    "# X_train['funded_day'] = pd.to_numeric(X_train['funded_day'], errors='coerce')"
   ]
  },
  {
   "cell_type": "code",
   "execution_count": null,
   "id": "c2188fe1",
   "metadata": {},
   "outputs": [],
   "source": [
    "X_test['founded_at_day'] = pd.to_numeric(X_test['founded_at_day'], errors='coerce')\n",
    "X_test['founded_at_month'] = pd.to_numeric(X_test['founded_at_month'], errors='coerce')\n",
    "X_test['founded_at_year'] = pd.to_numeric(X_test['founded_at_year'], errors='coerce')\n",
    "\n",
    "\n",
    "X_test['first_funding_day'] = pd.to_numeric(X_test['first_funding_day'], errors='coerce')\n",
    "X_test['first_funding_month'] = pd.to_numeric(X_test['first_funding_month'], errors='coerce')\n",
    "X_test['first_funding_year'] = pd.to_numeric(X_test['first_funding_year'], errors='coerce')\n",
    "\n",
    "\n",
    "X_test['last_funding_day'] = pd.to_numeric(X_test['last_funding_day'], errors='coerce')\n",
    "X_test['last_funding_month'] = pd.to_numeric(X_test['last_funding_month'], errors='coerce')\n",
    "X_test['last_funding_year'] = pd.to_numeric(X_test['last_funding_year'], errors='coerce')\n",
    "\n",
    "# X_test['funded_year'] = pd.to_numeric(X_test['funded_year'], errors='coerce')\n",
    "# X_test['funded_month'] = pd.to_numeric(X_test['funded_month'], errors='coerce')\n",
    "# X_test['funded_day'] = pd.to_numeric(X_test['funded_day'], errors='coerce')"
   ]
  },
  {
   "cell_type": "code",
   "execution_count": null,
   "id": "9caecbb8",
   "metadata": {},
   "outputs": [],
   "source": [
    "category_split = X_train[\"category_list\"].str.split(\"|\", n = 1, expand = True)\n",
    "#print(category_split)\n",
    "X_train[\"category_1\"] = category_split[0]\n",
    "#company[\"category_2\"] = category_split[1]\n",
    "\n",
    "X_train.head()\n",
    "X_train.info()"
   ]
  },
  {
   "cell_type": "code",
   "execution_count": null,
   "id": "66de970b",
   "metadata": {},
   "outputs": [],
   "source": [
    "category_split = X_test[\"category_list\"].str.split(\"|\", n = 1, expand = True)\n",
    "#print(category_split)\n",
    "X_test[\"category_1\"] = category_split[0]\n",
    "#company[\"category_2\"] = category_split[1]\n",
    "\n",
    "X_test.head()\n",
    "X_test.info()"
   ]
  },
  {
   "cell_type": "code",
   "execution_count": null,
   "id": "0730d433",
   "metadata": {},
   "outputs": [],
   "source": [
    "X_train_new = X_train.drop(columns=['permalink', 'status','founded_at','first_funding_at','last_funding_at','funding_duration'\n",
    "                                 ,'category_list'])\n",
    "\n",
    "X_train_new.info()  #10668\n"
   ]
  },
  {
   "cell_type": "code",
   "execution_count": null,
   "id": "7a59c94a",
   "metadata": {},
   "outputs": [],
   "source": [
    "X_test_new = X_test.drop(columns=['permalink', 'status','founded_at','first_funding_at','last_funding_at','funding_duration'\n",
    "                                 ,'category_list'])\n",
    "\n",
    "X_test_new.info()  #2666"
   ]
  },
  {
   "cell_type": "markdown",
   "id": "75c40642",
   "metadata": {},
   "source": [
    "# Keep the Top 5 Countries and put the rest in Others"
   ]
  },
  {
   "cell_type": "code",
   "execution_count": null,
   "id": "e87b1f98",
   "metadata": {},
   "outputs": [],
   "source": [
    "X_train_new['country_code'] = X_train_new['country_code'].astype('category')\n",
    "\n",
    "others = X_train_new['country_code'].value_counts().index[5:]\n",
    "label1 = 'other countries'\n",
    "\n",
    "X_train_new['country_code'] = X_train_new['country_code'].cat.add_categories([label1])\n",
    "X_train_new['country_code'] = X_train_new['country_code'].replace(others, label1)\n",
    "\n",
    "#X_test['country_code'] = X_test['country_code'].cat.add_categories([label1])\n"
   ]
  },
  {
   "cell_type": "code",
   "execution_count": null,
   "id": "6c07f5bf",
   "metadata": {},
   "outputs": [],
   "source": [
    "X_test_new['country_code'] = X_test_new['country_code'].astype('category')\n",
    "others1 = X_test_new['country_code'].value_counts().index[5:]\n",
    "labels1 = 'Other countries'\n",
    "#X_test['country_code'] = X_test['country_code'].cat.add_categories([label1])\n",
    "X_test_new['country_code'] = X_test_new['country_code'].replace(others1, labels1)"
   ]
  },
  {
   "cell_type": "code",
   "execution_count": null,
   "id": "b79a8ca2",
   "metadata": {},
   "outputs": [],
   "source": [
    " X_train_new.country_code.unique()"
   ]
  },
  {
   "cell_type": "code",
   "execution_count": null,
   "id": "a2f087d5",
   "metadata": {},
   "outputs": [],
   "source": [
    "X_test_new.country_code.unique()"
   ]
  },
  {
   "cell_type": "code",
   "execution_count": null,
   "id": "8520821d",
   "metadata": {},
   "outputs": [],
   "source": [
    "X_test_new.head()"
   ]
  },
  {
   "cell_type": "markdown",
   "id": "a0032104",
   "metadata": {},
   "source": [
    "# Lebel Encode funding round type and code "
   ]
  },
  {
   "cell_type": "code",
   "execution_count": null,
   "id": "3e409196",
   "metadata": {},
   "outputs": [],
   "source": [
    "from sklearn import preprocessing\n",
    "# train, test = ... # SEPARATE YOUR DATA AS YOU WANT\n",
    "# le = preprocessing.LabelEncoder()\n",
    "# trained_le = le.fit(train)\n",
    "# train = trained_le.transform(train)\n",
    "# test = trained_le.transform(test)\n",
    "\n",
    "# from sklearn.preprocessing import OrdinalEncoder\n",
    "# encoder = OrdinalEncoder(handle_unknown='ignore', unknown_value=np.nan)\n",
    "\n",
    "le = preprocessing.LabelEncoder()\n",
    "#encode_cols = ['funding_round_type']\n",
    "\n",
    "# trained_le = le.fit(X_train_new[encode_cols])\n",
    "# X_train_new = trained_le.transform(X_train_new[encode_cols])\n",
    "# X_test_new = trained_le.transform(X_test_new[encode_cols])"
   ]
  },
  {
   "cell_type": "code",
   "execution_count": null,
   "id": "b5a877a9",
   "metadata": {},
   "outputs": [],
   "source": [
    " X_train_new.funding_round_type.unique()"
   ]
  },
  {
   "cell_type": "code",
   "execution_count": null,
   "id": "83185759",
   "metadata": {},
   "outputs": [],
   "source": [
    "from sklearn.preprocessing import LabelEncoder\n",
    "le = LabelEncoder()\n",
    "le.fit(X_train_new['country_code'])\n",
    "X_test_new['country_code'] = X_test_new['country_code'].map(lambda s: '<unknown>' if s not in le.classes_ else s)\n",
    "le.classes_ = np.append(le.classes_, '<unknown>')\n",
    "X_train_new['country_code'] = le.transform(X_train_new['country_code'])\n",
    "X_test_new['country_code'] = le.transform(X_test_new['country_code'])"
   ]
  },
  {
   "cell_type": "code",
   "execution_count": null,
   "id": "8c4b8677",
   "metadata": {},
   "outputs": [],
   "source": [
    "X_test_new.head()"
   ]
  },
  {
   "cell_type": "code",
   "execution_count": null,
   "id": "b2787ebb",
   "metadata": {},
   "outputs": [],
   "source": [
    "X_test_new.info()"
   ]
  },
  {
   "cell_type": "code",
   "execution_count": null,
   "id": "85e913db",
   "metadata": {},
   "outputs": [],
   "source": [
    "X_train_new.info()"
   ]
  },
  {
   "cell_type": "markdown",
   "id": "c6dade96",
   "metadata": {},
   "source": [
    "# tokenzing Country code, company domiain and category features using bag of words"
   ]
  },
  {
   "cell_type": "markdown",
   "id": "b846644f",
   "metadata": {},
   "source": [
    "# tokenizing category and counting the occurance ###########"
   ]
  },
  {
   "cell_type": "code",
   "execution_count": null,
   "id": "28aa79bc",
   "metadata": {},
   "outputs": [],
   "source": [
    "from sklearn.feature_extraction.text import CountVectorizer\n",
    "vectorizer = CountVectorizer(stop_words ='english',analyzer='word')\n",
    "#cv = CountVectorizer(parameters desired)\n",
    "\n",
    "train_1 = vectorizer.fit_transform(X_train_new['category_1'])\n",
    "train_x = pd.DataFrame(train_1.toarray(), columns = vectorizer.get_feature_names()) \n",
    "test_1 = vectorizer.transform(X_test_new['category_1'])\n",
    "test_x = pd.DataFrame(test_1.toarray(), columns = vectorizer.get_feature_names()) "
   ]
  },
  {
   "cell_type": "code",
   "execution_count": null,
   "id": "8a17c182",
   "metadata": {},
   "outputs": [],
   "source": [
    "train_x.info()"
   ]
  },
  {
   "cell_type": "code",
   "execution_count": null,
   "id": "ca4e6ae1",
   "metadata": {},
   "outputs": [],
   "source": [
    "test_x.info()"
   ]
  },
  {
   "cell_type": "code",
   "execution_count": null,
   "id": "f73924d9",
   "metadata": {},
   "outputs": [],
   "source": [
    "X_train_new.reset_index(drop=True, inplace=True)\n",
    "res = pd.concat([X_train_new, train_x], axis = 1)\n",
    "res.head()\n",
    "X_train_res =res.drop(columns=['category_1'])"
   ]
  },
  {
   "cell_type": "code",
   "execution_count": null,
   "id": "7c9fbf4e",
   "metadata": {},
   "outputs": [],
   "source": [
    "X_train_res.head()"
   ]
  },
  {
   "cell_type": "code",
   "execution_count": null,
   "id": "3242c978",
   "metadata": {},
   "outputs": [],
   "source": [
    "X_test_new.reset_index(drop=True, inplace=True)\n",
    "\n",
    "reset = pd.concat([X_test_new, test_x], axis = 1)\n",
    "#res.head()\n",
    "X_test_res =reset.drop(columns=['category_1'])"
   ]
  },
  {
   "cell_type": "code",
   "execution_count": null,
   "id": "d5515219",
   "metadata": {},
   "outputs": [],
   "source": [
    "X_test_res.info()"
   ]
  },
  {
   "cell_type": "code",
   "execution_count": null,
   "id": "fc02f598",
   "metadata": {},
   "outputs": [],
   "source": [
    "X = pd.concat([X_train_res, X_test_res], axis=0).reset_index(drop=True)"
   ]
  },
  {
   "cell_type": "code",
   "execution_count": null,
   "id": "5d5cb6ae",
   "metadata": {},
   "outputs": [],
   "source": [
    "y = pd.concat([y_train, y_test], axis=0).reset_index(drop=True)"
   ]
  },
  {
   "cell_type": "code",
   "execution_count": null,
   "id": "57df336b",
   "metadata": {},
   "outputs": [],
   "source": [
    "X.shape"
   ]
  },
  {
   "cell_type": "code",
   "execution_count": null,
   "id": "f15a5227",
   "metadata": {},
   "outputs": [],
   "source": [
    "y.shape"
   ]
  },
  {
   "cell_type": "code",
   "execution_count": null,
   "id": "3bfeeb5b",
   "metadata": {},
   "outputs": [],
   "source": [
    "X = X.loc[:,~X.columns.duplicated()].copy()\n",
    "X"
   ]
  },
  {
   "cell_type": "code",
   "execution_count": null,
   "id": "f02ebf98",
   "metadata": {},
   "outputs": [],
   "source": [
    "# Sklearn\n",
    "from sklearn.model_selection import train_test_split, GridSearchCV, RandomizedSearchCV, StratifiedKFold\n",
    "from sklearn.metrics import accuracy_score, confusion_matrix, recall_score, precision_score, f1_score\n",
    "from sklearn.metrics import roc_auc_score, plot_confusion_matrix, plot_roc_curve, roc_curve\n",
    "from sklearn.preprocessing import StandardScaler, MinMaxScaler, OneHotEncoder, LabelEncoder\n",
    "from sklearn.feature_selection import mutual_info_classif\n",
    "from sklearn.decomposition import PCA\n",
    "from sklearn.compose import ColumnTransformer\n",
    "from sklearn.pipeline import Pipeline\n",
    "from sklearn.impute import SimpleImputer\n",
    "##import eli5\n",
    "#from eli5.sklearn import PermutationImportance\n",
    "from sklearn.utils import resample\n",
    "\n",
    "# Models\n",
    "from sklearn.linear_model import LinearRegression, LogisticRegression\n",
    "from sklearn.neighbors import KNeighborsClassifier\n",
    "from sklearn.svm import SVC\n",
    "from sklearn.tree import DecisionTreeClassifier\n",
    "from sklearn.ensemble import RandomForestClassifier\n",
    "from xgboost import XGBClassifier\n",
    "from lightgbm import LGBMClassifier\n",
    "from catboost import CatBoostClassifier\n",
    "from sklearn.naive_bayes import GaussianNB\n",
    "from sklearn.tree import DecisionTreeClassifier\n",
    "from sklearn.linear_model import LogisticRegression\n",
    "from sklearn.ensemble import RandomForestClassifier\n",
    "from sklearn.naive_bayes import GaussianNB\n",
    "from sklearn.svm import SVC\n",
    "from sklearn import model_selection\n",
    "from sklearn.neighbors import KNeighborsClassifier\n",
    "from sklearn.discriminant_analysis import LinearDiscriminantAnalysis\n",
    "import xgboost as xgb\n",
    "from sklearn.ensemble import AdaBoostClassifier"
   ]
  },
  {
   "cell_type": "code",
   "execution_count": null,
   "id": "a5117c45",
   "metadata": {},
   "outputs": [],
   "source": [
    "# Train-validation split\n",
    "X_train, X_test, y_train, y_test = train_test_split(X,y,stratify=y,train_size=0.8,test_size=0.2,random_state=0)"
   ]
  },
  {
   "cell_type": "code",
   "execution_count": null,
   "id": "fd79cdfb",
   "metadata": {},
   "outputs": [],
   "source": [
    "from sklearn.model_selection import RepeatedKFold"
   ]
  },
  {
   "cell_type": "code",
   "execution_count": null,
   "id": "400ec277",
   "metadata": {},
   "outputs": [],
   "source": [
    "# prepare configuration for cross validation test harness\n",
    "seed = 7\n",
    "# prepare models\n",
    "models = []\n",
    "models.append(('LR', LogisticRegression(random_state = 42, max_iter = 10**6)))\n",
    "#models.append(('LDA', LinearDiscriminantAnalysis()))\n",
    "models.append(('KNN', KNeighborsClassifier(n_neighbors = 91)))\n",
    "models.append(('DT', DecisionTreeClassifier(random_state=42)))\n",
    "#models.append(('NB', GaussianNB()))\n",
    "models.append(('XGB', XGBClassifier(use_label_encoder =False, eval_metric='mlogloss')))\n",
    "models.append(('Adaboost', AdaBoostClassifier(n_estimators=100, random_state=0)))\n",
    "models.append(('RFC-100',RandomForestClassifier(n_estimators = 100,random_state=521)))\n",
    "models.append(('RFC-200',RandomForestClassifier(n_estimators = 200,random_state=521)))\n",
    "models.append\n",
    "# evaluate each model in turn\n",
    "results = []\n",
    "names = []\n",
    "scoring = 'accuracy'\n",
    "for name, model in models:\n",
    "    kfold = model_selection.RepeatedKFold(n_splits=5, n_repeats=5, random_state=1)\n",
    "    cv_results = model_selection.cross_val_score(model, X, y, cv=kfold, scoring=scoring)\n",
    "    results.append(cv_results)\n",
    "    names.append(name)\n",
    "    msg = \"%s: %f (%f)\" % (name, cv_results.mean(), cv_results.std())\n",
    "    print(msg)\n",
    "# boxplot algorithm comparison\n",
    "fig = plt.figure()\n",
    "fig.suptitle('Algorithm Comparison')\n",
    "ax = fig.add_subplot(111)\n",
    "plt.boxplot(results)\n",
    "plt.grid()\n",
    "ax.set_xticklabels(names)\n",
    "plt.show()"
   ]
  },
  {
   "cell_type": "code",
   "execution_count": null,
   "id": "36f17a85",
   "metadata": {},
   "outputs": [],
   "source": [
    "fig.savefig('Algorithm_comparison_baseline.png')"
   ]
  },
  {
   "cell_type": "code",
   "execution_count": null,
   "id": "ab2579a6",
   "metadata": {},
   "outputs": [],
   "source": [
    "from sklearn.pipeline import Pipeline\n",
    "from sklearn.compose import ColumnTransformer\n",
    "from sklearn.datasets import fetch_openml\n",
    "#from sklearn.pipeline import Pipeline\n",
    "from sklearn.impute import SimpleImputer\n",
    "from sklearn.preprocessing import StandardScaler, OneHotEncoder\n",
    "from sklearn.linear_model import LogisticRegression\n",
    "from sklearn.ensemble import RandomForestClassifier\n",
    "from sklearn import metrics \n",
    "from sklearn import ensemble\n",
    "import matplotlib.pyplot as plt\n",
    "import seaborn as sns\n",
    "from numpy import mean\n",
    "from numpy import std\n",
    "from sklearn.datasets import make_classification\n",
    "from sklearn.metrics import classification_report, confusion_matrix, accuracy_score, roc_curve, roc_auc_score, auc, f1_score\n",
    "from scipy import interp\n",
    "from sklearn.model_selection import RepeatedKFold\n",
    "from sklearn.model_selection import cross_val_score\n",
    "from sklearn.metrics import accuracy_score\n",
    "%matplotlib inline "
   ]
  },
  {
   "cell_type": "code",
   "execution_count": null,
   "id": "0c4c5494",
   "metadata": {},
   "outputs": [],
   "source": [
    "from sklearn.linear_model import LogisticRegression\n",
    "from sklearn import metrics \n",
    "from sklearn import ensemble\n",
    "import matplotlib.pyplot as plt\n",
    "import seaborn as sns\n",
    "from numpy import mean\n",
    "from numpy import std\n",
    "from sklearn.datasets import make_classification\n",
    "from sklearn.metrics import classification_report, confusion_matrix, accuracy_score, roc_curve, roc_auc_score, auc, f1_score\n",
    "from scipy import interp\n",
    "from sklearn.model_selection import RepeatedKFold\n",
    "from sklearn.model_selection import cross_val_score\n",
    "from sklearn.metrics import accuracy_score\n",
    "%matplotlib inline "
   ]
  },
  {
   "cell_type": "markdown",
   "id": "d08c387e",
   "metadata": {},
   "source": [
    "## ************ Differet way of testing model accuracy and auc average *****************************"
   ]
  },
  {
   "cell_type": "code",
   "execution_count": null,
   "id": "53ca3162",
   "metadata": {},
   "outputs": [],
   "source": [
    "############################LR model ##########################################\n",
    "\n",
    "import matplotlib.patches as patches\n",
    "from sklearn.model_selection import KFold \n",
    "kf = RepeatedKFold(n_splits=5, n_repeats=5, random_state=1)\n",
    "accuracy_model_a = []\n",
    "model_a = LogisticRegression(random_state=42, max_iter= 10**6)\n",
    "\n",
    "# plot arrows\n",
    "fig1 = plt.figure(figsize=[12,12])\n",
    "ax1 = fig1.add_subplot(111,aspect = 'equal')\n",
    "ax1.add_patch(\n",
    "    patches.Arrow(0.45,0.5,-0.25,0.25,width=0.3,color='green',alpha = 0.5)\n",
    "    )\n",
    "ax1.add_patch(\n",
    "    patches.Arrow(0.5,0.45,0.25,-0.25,width=0.3,color='red',alpha = 0.5)\n",
    "    )\n",
    "\n",
    "tprs = []\n",
    "aucs = []\n",
    "mean_fpr = np.linspace(0,1,100)\n",
    "i = 1\n",
    "for train_index,test_index in kf.split(X):\n",
    "    X_train, X_test = X.iloc[train_index], X.iloc[test_index] \n",
    "    y_train, y_test = y.iloc[train_index], y.iloc[test_index]\n",
    "    prediction = model_a.fit(X_train,y_train).predict_proba(X_test)\n",
    "    fpr, tpr, t = roc_curve(y_test, prediction[:, 1])\n",
    "    tprs.append(np.interp(mean_fpr, fpr, tpr))\n",
    "    roc_auc = auc(fpr, tpr)\n",
    "    aucs.append(roc_auc)\n",
    "    ya_pred = model_a.predict(X_test)\n",
    "    accuracy_model_a.append(accuracy_score(y_test, ya_pred))\n",
    "    plt.plot(fpr, tpr, lw=2, alpha=0.3, label='ROC fold %d (AUC = %0.2f)' % (i, roc_auc))\n",
    "    i= i+1\n",
    "plt.plot([0,1],[0,1],linestyle = '--',lw = 2,color = 'black')\n",
    "mean_tpr = np.mean(tprs, axis=0)\n",
    "mean_auc = auc(mean_fpr, mean_tpr)\n",
    "plt.plot(mean_fpr, mean_tpr, color='blue',\n",
    "         label=r'Mean ROC (AUC = %0.2f )' % (mean_auc),lw=2, alpha=1)\n",
    "\n",
    "plt.xlabel('False Positive Rate')\n",
    "plt.ylabel('True Positive Rate')\n",
    "plt.title('ROC')\n",
    "plt.legend(loc=\"lower right\")\n",
    "plt.text(0.32,0.7,'More accurate area',fontsize = 12)\n",
    "plt.text(0.63,0.4,'Less accurate area',fontsize = 12)\n",
    "plt.show()\n",
    "\n",
    "print(accuracy_model_a)\n",
    "\n",
    "print (\"Avg accuracy for LR:  \", np.array(accuracy_model_a).mean())\n",
    "cm = confusion_matrix(y_test, ya_pred)\n",
    "sns.heatmap(cm, annot = True, fmt = 'g')\n",
    "plt.show()\n",
    "\n",
    "print(classification_report(y_test,ya_pred))"
   ]
  },
  {
   "cell_type": "code",
   "execution_count": null,
   "id": "50aad59f",
   "metadata": {},
   "outputs": [],
   "source": [
    "from sklearn.model_selection import KFold \n",
    "kf = RepeatedKFold(n_splits=5, n_repeats=5, random_state=1)\n",
    "\n",
    "accuracy_model_d = []\n",
    "model_d = DecisionTreeClassifier(random_state=42)\n",
    "\n",
    "# plot arrows\n",
    "fig1 = plt.figure(figsize=[12,12])\n",
    "ax1 = fig1.add_subplot(111,aspect = 'equal')\n",
    "ax1.add_patch(\n",
    "    patches.Arrow(0.45,0.5,-0.25,0.25,width=0.3,color='green',alpha = 0.5)\n",
    "    )\n",
    "ax1.add_patch(\n",
    "    patches.Arrow(0.5,0.45,0.25,-0.25,width=0.3,color='red',alpha = 0.5)\n",
    "    )\n",
    "\n",
    "tprs = []\n",
    "aucs = []\n",
    "mean_fpr = np.linspace(0,1,100)\n",
    "i = 1\n",
    "for train_index,test_index in kf.split(X):\n",
    "    X_train, X_test = X.iloc[train_index], X.iloc[test_index] \n",
    "    y_train, y_test = y.iloc[train_index], y.iloc[test_index]\n",
    "    prediction = model_d.fit(X_train,y_train).predict_proba(X_test)\n",
    "    fpr, tpr, t = roc_curve(y_test, prediction[:, 1])\n",
    "    tprs.append(np.interp(mean_fpr, fpr, tpr))\n",
    "    roc_auc = auc(fpr, tpr)\n",
    "    aucs.append(roc_auc)\n",
    "    ye_pred = model_d.predict(X_test)\n",
    "    accuracy_model_d.append(accuracy_score(y_test, ye_pred))\n",
    "    plt.plot(fpr, tpr, lw=2, alpha=0.3, label='ROC fold %d (AUC = %0.2f)' % (i, roc_auc))\n",
    "    i= i+1\n",
    "plt.plot([0,1],[0,1],linestyle = '--',lw = 2,color = 'black')\n",
    "mean_tpr = np.mean(tprs, axis=0)\n",
    "mean_auc = auc(mean_fpr, mean_tpr)\n",
    "plt.plot(mean_fpr, mean_tpr, color='blue',\n",
    "         label=r'Mean ROC (AUC = %0.2f )' % (mean_auc),lw=2, alpha=1)\n",
    "\n",
    "plt.xlabel('False Positive Rate')\n",
    "plt.ylabel('True Positive Rate')\n",
    "plt.title('ROC')\n",
    "plt.legend(loc=\"lower right\")\n",
    "plt.text(0.32,0.7,'More accurate area',fontsize = 12)\n",
    "plt.text(0.63,0.4,'Less accurate area',fontsize = 12)\n",
    "plt.show()\n",
    "\n",
    "print(accuracy_model_d)\n",
    "\n",
    "print (\"Avg accuracy for Decision Tree :  \", np.array(accuracy_model_d).mean())\n",
    "cm = confusion_matrix(y_test, ye_pred)\n",
    "sns.heatmap(cm, annot = True, fmt = 'g')\n",
    "plt.show()\n",
    "\n",
    "print(classification_report(y_test,ye_pred))"
   ]
  },
  {
   "cell_type": "code",
   "execution_count": null,
   "id": "0004c8bb",
   "metadata": {},
   "outputs": [],
   "source": [
    "import matplotlib.patches as patches\n",
    "from sklearn.model_selection import KFold \n",
    "kf = RepeatedKFold(n_splits=5, n_repeats=5, random_state=1)\n",
    "accuracy_model_b = []\n",
    "model_b = RandomForestClassifier(n_estimators=100, random_state=521)\n",
    "\n",
    "# plot arrows\n",
    "fig1 = plt.figure(figsize=[12,12])\n",
    "ax1 = fig1.add_subplot(111,aspect = 'equal')\n",
    "ax1.add_patch(\n",
    "    patches.Arrow(0.45,0.5,-0.25,0.25,width=0.3,color='green',alpha = 0.5)\n",
    "    )\n",
    "ax1.add_patch(\n",
    "    patches.Arrow(0.5,0.45,0.25,-0.25,width=0.3,color='red',alpha = 0.5)\n",
    "    )\n",
    "\n",
    "tprs = []\n",
    "aucs = []\n",
    "mean_fpr = np.linspace(0,1,100)\n",
    "i = 1\n",
    "for train_index,test_index in kf.split(X):\n",
    "    X_train, X_test = X.iloc[train_index], X.iloc[test_index] \n",
    "    y_train, y_test = y.iloc[train_index], y.iloc[test_index]\n",
    "    prediction = model_b.fit(X_train,y_train).predict_proba(X_test)\n",
    "    fpr, tpr, t = roc_curve(y_test, prediction[:, 1])\n",
    "    tprs.append(np.interp(mean_fpr, fpr, tpr))\n",
    "    roc_auc = auc(fpr, tpr)\n",
    "    aucs.append(roc_auc)\n",
    "    yb_pred = model_b.predict(X_test)\n",
    "    accuracy_model_b.append(accuracy_score(y_test, yb_pred))\n",
    "    plt.plot(fpr, tpr, lw=2, alpha=0.3, label='ROC fold %d (AUC = %0.2f)' % (i, roc_auc))\n",
    "    i= i+1\n",
    "plt.plot([0,1],[0,1],linestyle = '--',lw = 2,color = 'black')\n",
    "mean_tpr = np.mean(tprs, axis=0)\n",
    "mean_auc = auc(mean_fpr, mean_tpr)\n",
    "plt.plot(mean_fpr, mean_tpr, color='blue',\n",
    "         label=r'Mean ROC (AUC = %0.2f )' % (mean_auc),lw=2, alpha=1)\n",
    "\n",
    "plt.xlabel('False Positive Rate')\n",
    "plt.ylabel('True Positive Rate')\n",
    "plt.title('ROC')\n",
    "plt.legend(loc=\"lower right\")\n",
    "plt.text(0.32,0.7,'More accurate area',fontsize = 12)\n",
    "plt.text(0.63,0.4,'Less accurate area',fontsize = 12)\n",
    "plt.show()\n",
    "\n",
    "print(accuracy_model_b)\n",
    "\n",
    "print (\"Avg accuracy for RF with 100 trees : \", np.array(accuracy_model_b).mean())\n",
    "cm = confusion_matrix(y_test, yb_pred)\n",
    "sns.heatmap(cm, annot = True, fmt = 'g')\n",
    "plt.show()\n",
    "\n",
    "print(classification_report(y_test,yb_pred))"
   ]
  },
  {
   "cell_type": "code",
   "execution_count": null,
   "id": "c596ab75",
   "metadata": {},
   "outputs": [],
   "source": [
    "############################ KNN model ##########################################\n",
    "\n",
    "from sklearn.model_selection import KFold \n",
    "kf = RepeatedKFold(n_splits=5, n_repeats=5, random_state=1)\n",
    "\n",
    "accuracy_model_c = []\n",
    "model_c = KNeighborsClassifier(n_neighbors=9)\n",
    "\n",
    "# plot arrows\n",
    "fig1 = plt.figure(figsize=[12,12])\n",
    "ax1 = fig1.add_subplot(111,aspect = 'equal')\n",
    "ax1.add_patch(\n",
    "    patches.Arrow(0.45,0.5,-0.25,0.25,width=0.3,color='green',alpha = 0.5)\n",
    "    )\n",
    "ax1.add_patch(\n",
    "    patches.Arrow(0.5,0.45,0.25,-0.25,width=0.3,color='red',alpha = 0.5)\n",
    "    )\n",
    "\n",
    "tprs = []\n",
    "aucs = []\n",
    "mean_fpr = np.linspace(0,1,100)\n",
    "i = 1\n",
    "for train_index,test_index in kf.split(X):\n",
    "    X_train, X_test = X.iloc[train_index], X.iloc[test_index] \n",
    "    y_train, y_test = y.iloc[train_index], y.iloc[test_index]\n",
    "    prediction = model_c.fit(X_train,y_train).predict_proba(X_test)\n",
    "    fpr, tpr, t = roc_curve(y_test, prediction[:, 1])\n",
    "    tprs.append(np.interp(mean_fpr, fpr, tpr))\n",
    "    roc_auc = auc(fpr, tpr)\n",
    "    aucs.append(roc_auc)\n",
    "    yc_pred = model_c.predict(X_test)\n",
    "    accuracy_model_c.append(accuracy_score(y_test, yc_pred))\n",
    "    plt.plot(fpr, tpr, lw=2, alpha=0.3, label='ROC fold %d (AUC = %0.2f)' % (i, roc_auc))\n",
    "    i= i+1\n",
    "plt.plot([0,1],[0,1],linestyle = '--',lw = 2,color = 'black')\n",
    "mean_tpr = np.mean(tprs, axis=0)\n",
    "mean_auc = auc(mean_fpr, mean_tpr)\n",
    "plt.plot(mean_fpr, mean_tpr, color='blue',\n",
    "         label=r'Mean ROC (AUC = %0.2f )' % (mean_auc),lw=2, alpha=1)\n",
    "\n",
    "plt.xlabel('False Positive Rate')\n",
    "plt.ylabel('True Positive Rate')\n",
    "plt.title('ROC')\n",
    "plt.legend(loc=\"lower right\")\n",
    "plt.text(0.32,0.7,'More accurate area',fontsize = 12)\n",
    "plt.text(0.63,0.4,'Less accurate area',fontsize = 12)\n",
    "plt.show()\n",
    "\n",
    "print(accuracy_model_c)\n",
    "\n",
    "print (\"Avg accuracy for KNN : \", np.array(accuracy_model_c).mean())\n",
    "cm = confusion_matrix(y_test, yc_pred)\n",
    "sns.heatmap(cm, annot = True, fmt = 'g')\n",
    "plt.show()\n",
    "\n",
    "print(classification_report(y_test,yc_pred))"
   ]
  },
  {
   "cell_type": "code",
   "execution_count": null,
   "id": "f79316cf",
   "metadata": {},
   "outputs": [],
   "source": [
    "from sklearn.model_selection import RandomizedSearchCV\n",
    "import xgboost as xgb\n",
    "from sklearn.svm import SVC\n",
    "from sklearn.ensemble import AdaBoostClassifier\n",
    "from sklearn.model_selection import KFold \n",
    "kf = RepeatedKFold(n_splits=5, n_repeats=5, random_state=1)\n",
    "\n",
    "accuracy_model_d = []\n",
    "model_d = AdaBoostClassifier(random_state=42)\n",
    "\n",
    "# plot arrows\n",
    "fig1 = plt.figure(figsize=[12,12])\n",
    "ax1 = fig1.add_subplot(111,aspect = 'equal')\n",
    "ax1.add_patch(\n",
    "    patches.Arrow(0.45,0.5,-0.25,0.25,width=0.3,color='green',alpha = 0.5)\n",
    "    )\n",
    "ax1.add_patch(\n",
    "    patches.Arrow(0.5,0.45,0.25,-0.25,width=0.3,color='red',alpha = 0.5)\n",
    "    )\n",
    "\n",
    "tprs = []\n",
    "aucs = []\n",
    "mean_fpr = np.linspace(0,1,100)\n",
    "i = 1\n",
    "for train_index,test_index in kf.split(X):\n",
    "    X_train, X_test = X.iloc[train_index], X.iloc[test_index] \n",
    "    y_train, y_test = y.iloc[train_index], y.iloc[test_index]\n",
    "    prediction = model_d.fit(X_train,y_train).predict_proba(X_test)\n",
    "    fpr, tpr, t = roc_curve(y_test, prediction[:, 1])\n",
    "    tprs.append(np.interp(mean_fpr, fpr, tpr))\n",
    "    roc_auc = auc(fpr, tpr)\n",
    "    aucs.append(roc_auc)\n",
    "    yd_pred = model_d.predict(X_test)\n",
    "    accuracy_model_d.append(accuracy_score(y_test, yd_pred))\n",
    "    plt.plot(fpr, tpr, lw=2, alpha=0.3, label='ROC fold %d (AUC = %0.2f)' % (i, roc_auc))\n",
    "    i= i+1\n",
    "plt.plot([0,1],[0,1],linestyle = '--',lw = 2,color = 'black')\n",
    "mean_tpr = np.mean(tprs, axis=0)\n",
    "mean_auc = auc(mean_fpr, mean_tpr)\n",
    "plt.plot(mean_fpr, mean_tpr, color='blue',\n",
    "         label=r'Mean ROC (AUC = %0.2f )' % (mean_auc),lw=2, alpha=1)\n",
    "\n",
    "plt.xlabel('False Positive Rate')\n",
    "plt.ylabel('True Positive Rate')\n",
    "plt.title('ROC')\n",
    "plt.legend(loc=\"lower right\")\n",
    "plt.text(0.32,0.7,'More accurate area',fontsize = 12)\n",
    "plt.text(0.63,0.4,'Less accurate area',fontsize = 12)\n",
    "plt.show()\n",
    "\n",
    "print(accuracy_model_d)\n",
    "\n",
    "print (\"Avg accuracy for Adaboost \", np.array(accuracy_model_d).mean())\n",
    "cm = confusion_matrix(y_test, yd_pred)\n",
    "sns.heatmap(cm, annot = True, fmt = 'g')\n",
    "plt.show()\n",
    "\n",
    "print(classification_report(y_test,yd_pred))"
   ]
  },
  {
   "cell_type": "code",
   "execution_count": null,
   "id": "028eb921",
   "metadata": {},
   "outputs": [],
   "source": [
    "from sklearn.model_selection import KFold \n",
    "kf = RepeatedKFold(n_splits=5, n_repeats=5, random_state=1)\n",
    "\n",
    "accuracy_model_e = []\n",
    "model_e = xgb.XGBClassifier(use_label_encoder =False, eval_metric='mlogloss' )\n",
    "\n",
    "# plot arrows\n",
    "fig1 = plt.figure(figsize=[12,12])\n",
    "ax1 = fig1.add_subplot(111,aspect = 'equal')\n",
    "ax1.add_patch(\n",
    "    patches.Arrow(0.45,0.5,-0.25,0.25,width=0.3,color='green',alpha = 0.5)\n",
    "    )\n",
    "ax1.add_patch(\n",
    "    patches.Arrow(0.5,0.45,0.25,-0.25,width=0.3,color='red',alpha = 0.5)\n",
    "    )\n",
    "\n",
    "tprs = []\n",
    "aucs = []\n",
    "mean_fpr = np.linspace(0,1,100)\n",
    "i = 1\n",
    "for train_index,test_index in kf.split(X):\n",
    "    X_train, X_test = X.iloc[train_index], X.iloc[test_index] \n",
    "    y_train, y_test = y.iloc[train_index], y.iloc[test_index]\n",
    "    prediction = model_e.fit(X_train,y_train).predict_proba(X_test)\n",
    "    fpr, tpr, t = roc_curve(y_test, prediction[:, 1])\n",
    "    tprs.append(np.interp(mean_fpr, fpr, tpr))\n",
    "    roc_auc = auc(fpr, tpr)\n",
    "    aucs.append(roc_auc)\n",
    "    ye_pred = model_e.predict(X_test)\n",
    "    accuracy_model_e.append(accuracy_score(y_test, ye_pred))\n",
    "    plt.plot(fpr, tpr, lw=2, alpha=0.3, label='ROC fold %d (AUC = %0.2f)' % (i, roc_auc))\n",
    "    i= i+1\n",
    "plt.plot([0,1],[0,1],linestyle = '--',lw = 2,color = 'black')\n",
    "mean_tpr = np.mean(tprs, axis=0)\n",
    "mean_auc = auc(mean_fpr, mean_tpr)\n",
    "plt.plot(mean_fpr, mean_tpr, color='blue',\n",
    "         label=r'Mean ROC (AUC = %0.2f )' % (mean_auc),lw=2, alpha=1)\n",
    "\n",
    "plt.xlabel('False Positive Rate')\n",
    "plt.ylabel('True Positive Rate')\n",
    "plt.title('ROC')\n",
    "plt.legend(loc=\"lower right\")\n",
    "plt.text(0.32,0.7,'More accurate area',fontsize = 12)\n",
    "plt.text(0.63,0.4,'Less accurate area',fontsize = 12)\n",
    "plt.show()\n",
    "\n",
    "print(accuracy_model_e)\n",
    "\n",
    "print (\"Avg accuracy for XGBoost :  \", np.array(accuracy_model_e).mean())\n",
    "cm = confusion_matrix(y_test, ye_pred)\n",
    "sns.heatmap(cm, annot = True, fmt = 'g')\n",
    "plt.show()\n",
    "\n",
    "print(classification_report(y_test,ye_pred))"
   ]
  },
  {
   "cell_type": "code",
   "execution_count": null,
   "id": "b3760556",
   "metadata": {},
   "outputs": [],
   "source": [
    "import matplotlib.patches as patches\n",
    "from sklearn.model_selection import KFold \n",
    "kf = RepeatedKFold(n_splits=5, n_repeats=5, random_state=1)\n",
    "accuracy_model_b = []\n",
    "model_b = RandomForestClassifier(n_estimators=200, random_state=521)\n",
    "\n",
    "# plot arrows\n",
    "fig1 = plt.figure(figsize=[12,12])\n",
    "ax1 = fig1.add_subplot(111,aspect = 'equal')\n",
    "ax1.add_patch(\n",
    "    patches.Arrow(0.45,0.5,-0.25,0.25,width=0.3,color='green',alpha = 0.5)\n",
    "    )\n",
    "ax1.add_patch(\n",
    "    patches.Arrow(0.5,0.45,0.25,-0.25,width=0.3,color='red',alpha = 0.5)\n",
    "    )\n",
    "\n",
    "tprs = []\n",
    "aucs = []\n",
    "mean_fpr = np.linspace(0,1,100)\n",
    "i = 1\n",
    "for train_index,test_index in kf.split(X):\n",
    "    X_train, X_test = X.iloc[train_index], X.iloc[test_index] \n",
    "    y_train, y_test = y.iloc[train_index], y.iloc[test_index]\n",
    "    prediction = model_b.fit(X_train,y_train).predict_proba(X_test)\n",
    "    fpr, tpr, t = roc_curve(y_test, prediction[:, 1])\n",
    "    tprs.append(np.interp(mean_fpr, fpr, tpr))\n",
    "    roc_auc = auc(fpr, tpr)\n",
    "    aucs.append(roc_auc)\n",
    "    yb_pred = model_b.predict(X_test)\n",
    "    accuracy_model_b.append(accuracy_score(y_test, yb_pred))\n",
    "    plt.plot(fpr, tpr, lw=2, alpha=0.3, label='ROC fold %d (AUC = %0.2f)' % (i, roc_auc))\n",
    "    i= i+1\n",
    "plt.plot([0,1],[0,1],linestyle = '--',lw = 2,color = 'black')\n",
    "mean_tpr = np.mean(tprs, axis=0)\n",
    "mean_auc = auc(mean_fpr, mean_tpr)\n",
    "plt.plot(mean_fpr, mean_tpr, color='blue',\n",
    "         label=r'Mean ROC (AUC = %0.2f )' % (mean_auc),lw=2, alpha=1)\n",
    "\n",
    "plt.xlabel('False Positive Rate')\n",
    "plt.ylabel('True Positive Rate')\n",
    "plt.title('ROC')\n",
    "plt.legend(loc=\"lower right\")\n",
    "plt.text(0.32,0.7,'More accurate area',fontsize = 12)\n",
    "plt.text(0.63,0.4,'Less accurate area',fontsize = 12)\n",
    "plt.show()\n",
    "\n",
    "print(accuracy_model_b)\n",
    "\n",
    "print (\"Avg accuracy for RF with 200 trees : \", np.array(accuracy_model_b).mean())\n",
    "cm = confusion_matrix(y_test, yb_pred)\n",
    "sns.heatmap(cm, annot = True, fmt = 'g')\n",
    "plt.show()\n",
    "\n",
    "print(classification_report(y_test,yb_pred))"
   ]
  },
  {
   "cell_type": "code",
   "execution_count": null,
   "id": "4fd61b8f",
   "metadata": {},
   "outputs": [],
   "source": [
    "from sklearn.model_selection import RepeatedKFold \n",
    "import xgboost as xgb\n",
    "from sklearn.svm import SVC\n",
    "from sklearn.ensemble import AdaBoostClassifier\n",
    "kf = RepeatedKFold(n_splits=5, n_repeats=5, random_state=1)\n",
    "\n",
    "accuracy_model_e = []\n",
    "model_e = xgb.XGBClassifier(use_label_encoder =False, eval_metric='mlogloss', )\n",
    "accuracy_model_d = []\n",
    "model_d = AdaBoostClassifier(random_state=42)\n",
    "accuracy_model_c = []\n",
    "model_c = KNeighborsClassifier(n_neighbors=9)\n",
    "accuracy_model_b = []\n",
    "model_b = RandomForestClassifier(n_estimators=100, random_state=521)\n",
    "accuracy_model_b1 = []\n",
    "model_b1 = RandomForestClassifier(n_estimators=200, random_state=521)\n",
    "accuracy_model_a = []\n",
    "model_a = LogisticRegression(random_state=42, max_iter= 10**6)\n",
    "accuracy_model_f = []\n",
    "model_f = DecisionTreeClassifier(random_state=42)\n",
    "\n",
    "fig1 = plt.figure(figsize=[8,6])\n",
    "\n",
    "tprs = []\n",
    "aucs = []\n",
    "mean_fpr = np.linspace(0,1,100)\n",
    "i = 1\n",
    "for train_index,test_index in kf.split(X):\n",
    "    X_train, X_test = X.iloc[train_index], X.iloc[test_index] \n",
    "    y_train, y_test = y.iloc[train_index], y.iloc[test_index]\n",
    "    prediction = model_d.fit(X_train,y_train).predict_proba(X_test)\n",
    "    fpr, tpr, t = roc_curve(y_test, prediction[:, 1])\n",
    "    tprs.append(np.interp(mean_fpr, fpr, tpr))\n",
    "    roc_auc = auc(fpr, tpr)\n",
    "    aucs.append(roc_auc)\n",
    "    yd_pred = model_d.predict(X_test)\n",
    "    accuracy_model_d.append(accuracy_score(y_test, yd_pred))\n",
    "    #plt.plot(fpr, tpr, lw=2, alpha=0.3, label='ROC fold %d (AUC = %0.2f)' % (i, roc_auc))\n",
    "    i= i+1\n",
    "plt.plot([0,1],[0,1],linestyle = '--',lw = 2,color = 'black')\n",
    "mean_tpr = np.mean(tprs, axis=0)\n",
    "mean_auc = auc(mean_fpr, mean_tpr)\n",
    "plt.plot(mean_fpr, mean_tpr, color='blue',\n",
    "         label=r'Mean ROC AdaBoost(AUC = %0.2f )' % (mean_auc),lw=2, alpha=1)\n",
    "\n",
    "\n",
    "\n",
    "tprs = []\n",
    "aucs = []\n",
    "mean_fpr = np.linspace(0,1,100)\n",
    "i = 1\n",
    "for train_index,test_index in kf.split(X):\n",
    "    X_train, X_test = X.iloc[train_index], X.iloc[test_index] \n",
    "    y_train, y_test = y.iloc[train_index], y.iloc[test_index]\n",
    "    prediction = model_e.fit(X_train,y_train).predict_proba(X_test)\n",
    "    fpr, tpr, t = roc_curve(y_test, prediction[:, 1])\n",
    "    tprs.append(np.interp(mean_fpr, fpr, tpr))\n",
    "    roc_auc = auc(fpr, tpr)\n",
    "    aucs.append(roc_auc)\n",
    "    ye_pred = model_e.predict(X_test)\n",
    "    accuracy_model_e.append(accuracy_score(y_test, ye_pred))\n",
    "    #plt.plot(fpr, tpr, lw=2, alpha=0.3, label='ROC fold %d (AUC = %0.2f)' % (i, roc_auc))\n",
    "    i= i+1\n",
    "plt.plot([0,1],[0,1],linestyle = '--',lw = 2,color = 'black')\n",
    "mean_tpr = np.mean(tprs, axis=0)\n",
    "mean_auc = auc(mean_fpr, mean_tpr)\n",
    "plt.plot(mean_fpr, mean_tpr, color='black',\n",
    "         label=r'Mean ROC XGBoost (AUC = %0.2f )' % (mean_auc),lw=2, alpha=1)\n",
    "\n",
    "\n",
    "tprs = []\n",
    "aucs = []\n",
    "mean_fpr = np.linspace(0,1,100)\n",
    "i = 1\n",
    "for train_index,test_index in kf.split(X):\n",
    "    X_train, X_test = X.iloc[train_index], X.iloc[test_index] \n",
    "    y_train, y_test = y.iloc[train_index], y.iloc[test_index]\n",
    "    prediction = model_a.fit(X_train,y_train).predict_proba(X_test)\n",
    "    fpr, tpr, t = roc_curve(y_test, prediction[:, 1])\n",
    "    tprs.append(np.interp(mean_fpr, fpr, tpr))\n",
    "    roc_auc = auc(fpr, tpr)\n",
    "    aucs.append(roc_auc)\n",
    "    ya_pred = model_e.predict(X_test)\n",
    "    accuracy_model_a.append(accuracy_score(y_test, ya_pred))\n",
    "    #plt.plot(fpr, tpr, lw=2, alpha=0.3, label='ROC fold %d (AUC = %0.2f)' % (i, roc_auc))\n",
    "    i= i+1\n",
    "plt.plot([0,1],[0,1],linestyle = '--',lw = 2,color = 'black')\n",
    "mean_tpr = np.mean(tprs, axis=0)\n",
    "mean_auc = auc(mean_fpr, mean_tpr)\n",
    "plt.plot(mean_fpr, mean_tpr, color='green',\n",
    "         label=r'Mean ROC LR, (AUC = %0.2f )' % (mean_auc),lw=2, alpha=1)\n",
    "\n",
    "\n",
    "tprs = []\n",
    "aucs = []\n",
    "mean_fpr = np.linspace(0,1,100)\n",
    "i = 1\n",
    "for train_index,test_index in kf.split(X):\n",
    "    X_train, X_test = X.iloc[train_index], X.iloc[test_index] \n",
    "    y_train, y_test = y.iloc[train_index], y.iloc[test_index]\n",
    "    prediction = model_b.fit(X_train,y_train).predict_proba(X_test)\n",
    "    fpr, tpr, t = roc_curve(y_test, prediction[:, 1])\n",
    "    tprs.append(np.interp(mean_fpr, fpr, tpr))\n",
    "    roc_auc = auc(fpr, tpr)\n",
    "    aucs.append(roc_auc)\n",
    "    yb_pred = model_b.predict(X_test)\n",
    "    accuracy_model_b.append(accuracy_score(y_test, yb_pred))\n",
    "    #plt.plot(fpr, tpr, lw=2, alpha=0.3, label='ROC fold %d (AUC = %0.2f)' % (i, roc_auc))\n",
    "    i= i+1\n",
    "plt.plot([0,1],[0,1],linestyle = '--',lw = 2,color = 'black')\n",
    "mean_tpr = np.mean(tprs, axis=0)\n",
    "mean_auc = auc(mean_fpr, mean_tpr)\n",
    "plt.plot(mean_fpr, mean_tpr, color='yellow',\n",
    "         label=r'Mean ROC RF 100, (AUC = %0.2f )' % (mean_auc),lw=2, alpha=1)\n",
    "\n",
    "tprs = []\n",
    "aucs = []\n",
    "mean_fpr = np.linspace(0,1,100)\n",
    "i = 1\n",
    "for train_index,test_index in kf.split(X):\n",
    "    X_train, X_test = X.iloc[train_index], X.iloc[test_index] \n",
    "    y_train, y_test = y.iloc[train_index], y.iloc[test_index]\n",
    "    prediction = model_b1.fit(X_train,y_train).predict_proba(X_test)\n",
    "    fpr, tpr, t = roc_curve(y_test, prediction[:, 1])\n",
    "    tprs.append(np.interp(mean_fpr, fpr, tpr))\n",
    "    roc_auc = auc(fpr, tpr)\n",
    "    aucs.append(roc_auc)\n",
    "    yb1_pred = model_b1.predict(X_test)\n",
    "    accuracy_model_b1.append(accuracy_score(y_test, yb1_pred))\n",
    "    #plt.plot(fpr, tpr, lw=2, alpha=0.3, label='ROC fold %d (AUC = %0.2f)' % (i, roc_auc))\n",
    "    i= i+1\n",
    "plt.plot([0,1],[0,1],linestyle = '--',lw = 2,color = 'black')\n",
    "mean_tpr = np.mean(tprs, axis=0)\n",
    "mean_auc = auc(mean_fpr, mean_tpr)\n",
    "plt.plot(mean_fpr, mean_tpr, color='purple',\n",
    "         label=r'Mean ROC RF 200, (AUC = %0.2f )' % (mean_auc),lw=2, alpha=1)\n",
    "\n",
    "tprs = []\n",
    "aucs = []\n",
    "mean_fpr = np.linspace(0,1,100)\n",
    "i = 1\n",
    "for train_index,test_index in kf.split(X):\n",
    "    X_train, X_test = X.iloc[train_index], X.iloc[test_index] \n",
    "    y_train, y_test = y.iloc[train_index], y.iloc[test_index]\n",
    "    prediction = model_c.fit(X_train,y_train).predict_proba(X_test)\n",
    "    fpr, tpr, t = roc_curve(y_test, prediction[:, 1])\n",
    "    tprs.append(np.interp(mean_fpr, fpr, tpr))\n",
    "    roc_auc = auc(fpr, tpr)\n",
    "    aucs.append(roc_auc)\n",
    "    yc_pred = model_c.predict(X_test)\n",
    "    accuracy_model_c.append(accuracy_score(y_test, yc_pred))\n",
    "    #plt.plot(fpr, tpr, lw=2, alpha=0.3, label='ROC fold %d (AUC = %0.2f)' % (i, roc_auc))\n",
    "    i= i+1\n",
    "plt.plot([0,1],[0,1],linestyle = '--',lw = 2,color = 'black')\n",
    "mean_tpr = np.mean(tprs, axis=0)\n",
    "mean_auc = auc(mean_fpr, mean_tpr)\n",
    "plt.plot(mean_fpr, mean_tpr, color='orange',\n",
    "         label=r'Mean ROC KNN, (AUC = %0.2f )' % (mean_auc),lw=2, alpha=1)\n",
    "\n",
    "\n",
    "tprs = []\n",
    "aucs = []\n",
    "mean_fpr = np.linspace(0,1,100)\n",
    "i = 1\n",
    "for train_index,test_index in kf.split(X):\n",
    "    X_train, X_test = X.iloc[train_index], X.iloc[test_index] \n",
    "    y_train, y_test = y.iloc[train_index], y.iloc[test_index]\n",
    "    prediction = model_f.fit(X_train,y_train).predict_proba(X_test)\n",
    "    fpr, tpr, t = roc_curve(y_test, prediction[:, 1])\n",
    "    tprs.append(np.interp(mean_fpr, fpr, tpr))\n",
    "    roc_auc = auc(fpr, tpr)\n",
    "    aucs.append(roc_auc)\n",
    "    yf_pred = model_f.predict(X_test)\n",
    "    accuracy_model_f.append(accuracy_score(y_test, yf_pred))\n",
    "    #plt.plot(fpr, tpr, lw=2, alpha=0.3, label='ROC fold %d (AUC = %0.2f)' % (i, roc_auc))\n",
    "    i= i+1\n",
    "plt.plot([0,1],[0,1],linestyle = '--',lw = 2,color = 'black')\n",
    "mean_tpr = np.mean(tprs, axis=0)\n",
    "mean_auc = auc(mean_fpr, mean_tpr)\n",
    "plt.plot(mean_fpr, mean_tpr, color='magenta',\n",
    "         label=r'Mean ROC DT, (AUC = %0.2f )' % (mean_auc),lw=2, alpha=1)\n",
    "\n",
    "\n",
    "\n",
    "plt.xticks(np.arange(0.0, 1.1, step=0.1))\n",
    "plt.xlabel(\"False Positive Rate\", fontsize=14)\n",
    "plt.yticks(np.arange(0.0, 1.1, step=0.1))\n",
    "plt.ylabel('True Positive Rate', fontsize=14)\n",
    "plt.title('ROC')\n",
    "plt.legend(loc=\"lower right\")\n",
    "#plt.text(0.32,0.7,'More accurate area',fontsize = 12)\n",
    "#plt.text(0.63,0.4,'Less accurate area',fontsize = 12)\n",
    "plt.show()\n",
    "\n",
    "fig.savefig('roc_curve_baseline.png')"
   ]
  },
  {
   "cell_type": "code",
   "execution_count": null,
   "id": "d31b96d9",
   "metadata": {},
   "outputs": [],
   "source": [
    "fig.savefig('multiple_roc_curve_baseline.png')"
   ]
  },
  {
   "cell_type": "code",
   "execution_count": null,
   "id": "b9e9377e",
   "metadata": {},
   "outputs": [],
   "source": []
  },
  {
   "cell_type": "code",
   "execution_count": null,
   "id": "f362b346",
   "metadata": {},
   "outputs": [],
   "source": []
  }
 ],
 "metadata": {
  "kernelspec": {
   "display_name": "Python 3 (ipykernel)",
   "language": "python",
   "name": "python3"
  },
  "language_info": {
   "codemirror_mode": {
    "name": "ipython",
    "version": 3
   },
   "file_extension": ".py",
   "mimetype": "text/x-python",
   "name": "python",
   "nbconvert_exporter": "python",
   "pygments_lexer": "ipython3",
   "version": "3.9.7"
  }
 },
 "nbformat": 4,
 "nbformat_minor": 5
}
